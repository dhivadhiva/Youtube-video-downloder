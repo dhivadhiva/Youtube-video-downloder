{
 "cells": [
  {
   "cell_type": "code",
   "execution_count": null,
   "id": "a6cd0aa7-1abc-4791-b67b-8831a99846a4",
   "metadata": {},
   "outputs": [],
   "source": [
    "# we are using Pytube module \n",
    "#importing the module \n",
    "import pytube\n",
    "\n",
    "link = \"put the youtube video link here \"\n",
    "\n",
    "yt = pytube.YouTube(link)\n",
    "\n",
    "stream = yt.streams.get_highest_resolution()\n",
    "\n",
    "stream.download()"
   ]
  },
  {
   "cell_type": "code",
   "execution_count": null,
   "id": "8cb1e519-2b31-4102-a07a-1982f810de20",
   "metadata": {},
   "outputs": [],
   "source": [
    "import pytube\n",
    "\n",
    "link = \"put the youtube video link here \"\n",
    "\n",
    "yt = pytube.YouTube(link)\n",
    "\n",
    "stream = yt.streams.first()\n",
    "\n",
    "stream.download()"
   ]
  }
 ],
 "metadata": {
  "kernelspec": {
   "display_name": "Python 3",
   "language": "python",
   "name": "python3"
  },
  "language_info": {
   "codemirror_mode": {
    "name": "ipython",
    "version": 3
   },
   "file_extension": ".py",
   "mimetype": "text/x-python",
   "name": "python",
   "nbconvert_exporter": "python",
   "pygments_lexer": "ipython3",
   "version": "3.8.8"
  }
 },
 "nbformat": 4,
 "nbformat_minor": 5
}
